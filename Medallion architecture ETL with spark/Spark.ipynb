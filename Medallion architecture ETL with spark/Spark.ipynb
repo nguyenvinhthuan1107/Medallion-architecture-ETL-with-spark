{
 "cells": [
  {
   "cell_type": "code",
   "execution_count": 1,
   "metadata": {},
   "outputs": [],
   "source": [
    "from pyspark.context import SparkContext\n",
    "from pyspark.sql.session import SparkSession\n",
    "sc = SparkContext('local')\n",
    "spark = SparkSession(sc)"
   ]
  },
  {
   "cell_type": "markdown",
   "metadata": {},
   "source": [
    "## Create bronze layer"
   ]
  },
  {
   "cell_type": "code",
   "execution_count": 2,
   "metadata": {
    "metadata": {}
   },
   "outputs": [
    {
     "data": {
      "text/plain": [
       "[Row(SalesOrderNumber='SO49172', SalesOrderLineNumber=1, OrderDate=datetime.date(2021, 1, 1), CustomerName='Brian Howard', Email='brian23@adventure-works.com', Item='Road-250 Red, 44', Quantity=1, UnitPrice=2443.35009765625, Tax=195.46800231933594),\n",
       " Row(SalesOrderNumber='SO49173', SalesOrderLineNumber=1, OrderDate=datetime.date(2021, 1, 1), CustomerName='Linda Alvarez', Email='linda19@adventure-works.com', Item='Mountain-200 Silver, 38', Quantity=1, UnitPrice=2071.419677734375, Tax=165.71359252929688),\n",
       " Row(SalesOrderNumber='SO49174', SalesOrderLineNumber=1, OrderDate=datetime.date(2021, 1, 1), CustomerName='Gina Hernandez', Email='gina4@adventure-works.com', Item='Mountain-200 Silver, 42', Quantity=1, UnitPrice=2071.419677734375, Tax=165.71359252929688),\n",
       " Row(SalesOrderNumber='SO49178', SalesOrderLineNumber=1, OrderDate=datetime.date(2021, 1, 1), CustomerName='Beth Ruiz', Email='beth4@adventure-works.com', Item='Road-550-W Yellow, 44', Quantity=1, UnitPrice=1000.4375, Tax=80.03500366210938),\n",
       " Row(SalesOrderNumber='SO49179', SalesOrderLineNumber=1, OrderDate=datetime.date(2021, 1, 1), CustomerName='Evan Ward', Email='evan13@adventure-works.com', Item='Road-550-W Yellow, 38', Quantity=1, UnitPrice=1000.4375, Tax=80.03500366210938),\n",
       " Row(SalesOrderNumber='SO49175', SalesOrderLineNumber=1, OrderDate=datetime.date(2021, 1, 1), CustomerName='Margaret Guo', Email='margaret24@adventure-works.com', Item='Road-250 Red, 52', Quantity=1, UnitPrice=2443.35009765625, Tax=195.46800231933594),\n",
       " Row(SalesOrderNumber='SO49180', SalesOrderLineNumber=1, OrderDate=datetime.date(2021, 1, 1), CustomerName='Mitchell Yuan', Email='mitchell6@adventure-works.com', Item='Road-650 Black, 58', Quantity=1, UnitPrice=782.989990234375, Tax=62.639198303222656),\n",
       " Row(SalesOrderNumber='SO49176', SalesOrderLineNumber=1, OrderDate=datetime.date(2021, 1, 1), CustomerName='Shawn Sharma', Email='shawn11@adventure-works.com', Item='Mountain-200 Silver, 46', Quantity=1, UnitPrice=2071.419677734375, Tax=165.71359252929688),\n",
       " Row(SalesOrderNumber='SO49177', SalesOrderLineNumber=1, OrderDate=datetime.date(2021, 1, 1), CustomerName='Barbara Chande', Email='barbara44@adventure-works.com', Item='Mountain-200 Silver, 42', Quantity=1, UnitPrice=2071.419677734375, Tax=165.71359252929688),\n",
       " Row(SalesOrderNumber='SO49186', SalesOrderLineNumber=1, OrderDate=datetime.date(2021, 1, 2), CustomerName='Cara Xu', Email='cara8@adventure-works.com', Item='Road-250 Red, 52', Quantity=1, UnitPrice=2443.35009765625, Tax=195.46800231933594)]"
      ]
     },
     "metadata": {},
     "output_type": "display_data"
    }
   ],
   "source": [
    "from pyspark.sql.types import *\n",
    "\n",
    "    \n",
    " # Create the schema for the table\n",
    "orderSchema = StructType([\n",
    "     StructField(\"SalesOrderNumber\", StringType()),\n",
    "     StructField(\"SalesOrderLineNumber\", IntegerType()),\n",
    "     StructField(\"OrderDate\", DateType()),\n",
    "     StructField(\"CustomerName\", StringType()),\n",
    "     StructField(\"Email\", StringType()),\n",
    "     StructField(\"Item\", StringType()),\n",
    "     StructField(\"Quantity\", IntegerType()),\n",
    "     StructField(\"UnitPrice\", FloatType()),\n",
    "     StructField(\"Tax\", FloatType())\n",
    "     ])\n",
    "    \n",
    " # Import all files from bronze folder of lakehouse\n",
    "df = spark.read.format(\"csv\").option(\"header\", \"true\").schema(orderSchema).load(\"data\\*.csv\")\n",
    "    \n",
    " # Display the first 10 rows of the dataframe to preview your data\n",
    "display(df.head(10))"
   ]
  },
  {
   "cell_type": "markdown",
   "metadata": {},
   "source": [
    " ## Create Silver layer"
   ]
  },
  {
   "cell_type": "code",
   "execution_count": 3,
   "metadata": {},
   "outputs": [],
   "source": [
    "from pyspark.sql.functions import when, lit, col, current_timestamp, input_file_name\n",
    "    \n",
    " # Add columns IsFlagged, CreatedTS and ModifiedTS\n",
    "df = df.withColumn(\"FileName\", input_file_name()) \\\n",
    "     .withColumn(\"IsFlagged\", when(col(\"OrderDate\") < '2019-08-01',True).otherwise(False)) \\\n",
    "     .withColumn(\"CreatedTS\", current_timestamp()).withColumn(\"ModifiedTS\", current_timestamp())\n",
    "    \n",
    " # Update CustomerName to \"Unknown\" if CustomerName null or empty\n",
    "df = df.withColumn(\"CustomerName\", when((col(\"CustomerName\").isNull() | (col(\"CustomerName\")==\"\")),lit(\"Unknown\")).otherwise(col(\"CustomerName\")))"
   ]
  },
  {
   "cell_type": "code",
   "execution_count": 4,
   "metadata": {
    "metadata": {}
   },
   "outputs": [
    {
     "data": {
      "text/plain": [
       "[Row(SalesOrderNumber='SO49172', SalesOrderLineNumber=1, OrderDate=datetime.date(2021, 1, 1), CustomerName='Brian Howard', Email='brian23@adventure-works.com', Item='Road-250 Red, 44', Quantity=1, UnitPrice=2443.35009765625, Tax=195.46800231933594, FileName='file:///d:/IT%20-%20DATA/DE/spark/data/2021.csv', IsFlagged=False, CreatedTS=datetime.datetime(2024, 5, 7, 23, 41, 27, 572000), ModifiedTS=datetime.datetime(2024, 5, 7, 23, 41, 27, 572000)),\n",
       " Row(SalesOrderNumber='SO49173', SalesOrderLineNumber=1, OrderDate=datetime.date(2021, 1, 1), CustomerName='Linda Alvarez', Email='linda19@adventure-works.com', Item='Mountain-200 Silver, 38', Quantity=1, UnitPrice=2071.419677734375, Tax=165.71359252929688, FileName='file:///d:/IT%20-%20DATA/DE/spark/data/2021.csv', IsFlagged=False, CreatedTS=datetime.datetime(2024, 5, 7, 23, 41, 27, 572000), ModifiedTS=datetime.datetime(2024, 5, 7, 23, 41, 27, 572000)),\n",
       " Row(SalesOrderNumber='SO49174', SalesOrderLineNumber=1, OrderDate=datetime.date(2021, 1, 1), CustomerName='Gina Hernandez', Email='gina4@adventure-works.com', Item='Mountain-200 Silver, 42', Quantity=1, UnitPrice=2071.419677734375, Tax=165.71359252929688, FileName='file:///d:/IT%20-%20DATA/DE/spark/data/2021.csv', IsFlagged=False, CreatedTS=datetime.datetime(2024, 5, 7, 23, 41, 27, 572000), ModifiedTS=datetime.datetime(2024, 5, 7, 23, 41, 27, 572000)),\n",
       " Row(SalesOrderNumber='SO49178', SalesOrderLineNumber=1, OrderDate=datetime.date(2021, 1, 1), CustomerName='Beth Ruiz', Email='beth4@adventure-works.com', Item='Road-550-W Yellow, 44', Quantity=1, UnitPrice=1000.4375, Tax=80.03500366210938, FileName='file:///d:/IT%20-%20DATA/DE/spark/data/2021.csv', IsFlagged=False, CreatedTS=datetime.datetime(2024, 5, 7, 23, 41, 27, 572000), ModifiedTS=datetime.datetime(2024, 5, 7, 23, 41, 27, 572000)),\n",
       " Row(SalesOrderNumber='SO49179', SalesOrderLineNumber=1, OrderDate=datetime.date(2021, 1, 1), CustomerName='Evan Ward', Email='evan13@adventure-works.com', Item='Road-550-W Yellow, 38', Quantity=1, UnitPrice=1000.4375, Tax=80.03500366210938, FileName='file:///d:/IT%20-%20DATA/DE/spark/data/2021.csv', IsFlagged=False, CreatedTS=datetime.datetime(2024, 5, 7, 23, 41, 27, 572000), ModifiedTS=datetime.datetime(2024, 5, 7, 23, 41, 27, 572000)),\n",
       " Row(SalesOrderNumber='SO49175', SalesOrderLineNumber=1, OrderDate=datetime.date(2021, 1, 1), CustomerName='Margaret Guo', Email='margaret24@adventure-works.com', Item='Road-250 Red, 52', Quantity=1, UnitPrice=2443.35009765625, Tax=195.46800231933594, FileName='file:///d:/IT%20-%20DATA/DE/spark/data/2021.csv', IsFlagged=False, CreatedTS=datetime.datetime(2024, 5, 7, 23, 41, 27, 572000), ModifiedTS=datetime.datetime(2024, 5, 7, 23, 41, 27, 572000)),\n",
       " Row(SalesOrderNumber='SO49180', SalesOrderLineNumber=1, OrderDate=datetime.date(2021, 1, 1), CustomerName='Mitchell Yuan', Email='mitchell6@adventure-works.com', Item='Road-650 Black, 58', Quantity=1, UnitPrice=782.989990234375, Tax=62.639198303222656, FileName='file:///d:/IT%20-%20DATA/DE/spark/data/2021.csv', IsFlagged=False, CreatedTS=datetime.datetime(2024, 5, 7, 23, 41, 27, 572000), ModifiedTS=datetime.datetime(2024, 5, 7, 23, 41, 27, 572000)),\n",
       " Row(SalesOrderNumber='SO49176', SalesOrderLineNumber=1, OrderDate=datetime.date(2021, 1, 1), CustomerName='Shawn Sharma', Email='shawn11@adventure-works.com', Item='Mountain-200 Silver, 46', Quantity=1, UnitPrice=2071.419677734375, Tax=165.71359252929688, FileName='file:///d:/IT%20-%20DATA/DE/spark/data/2021.csv', IsFlagged=False, CreatedTS=datetime.datetime(2024, 5, 7, 23, 41, 27, 572000), ModifiedTS=datetime.datetime(2024, 5, 7, 23, 41, 27, 572000)),\n",
       " Row(SalesOrderNumber='SO49177', SalesOrderLineNumber=1, OrderDate=datetime.date(2021, 1, 1), CustomerName='Barbara Chande', Email='barbara44@adventure-works.com', Item='Mountain-200 Silver, 42', Quantity=1, UnitPrice=2071.419677734375, Tax=165.71359252929688, FileName='file:///d:/IT%20-%20DATA/DE/spark/data/2021.csv', IsFlagged=False, CreatedTS=datetime.datetime(2024, 5, 7, 23, 41, 27, 572000), ModifiedTS=datetime.datetime(2024, 5, 7, 23, 41, 27, 572000)),\n",
       " Row(SalesOrderNumber='SO49186', SalesOrderLineNumber=1, OrderDate=datetime.date(2021, 1, 2), CustomerName='Cara Xu', Email='cara8@adventure-works.com', Item='Road-250 Red, 52', Quantity=1, UnitPrice=2443.35009765625, Tax=195.46800231933594, FileName='file:///d:/IT%20-%20DATA/DE/spark/data/2021.csv', IsFlagged=False, CreatedTS=datetime.datetime(2024, 5, 7, 23, 41, 27, 572000), ModifiedTS=datetime.datetime(2024, 5, 7, 23, 41, 27, 572000))]"
      ]
     },
     "execution_count": 4,
     "metadata": {},
     "output_type": "execute_result"
    }
   ],
   "source": [
    "df.head(10)"
   ]
  },
  {
   "cell_type": "code",
   "execution_count": 5,
   "metadata": {
    "metadata": {}
   },
   "outputs": [],
   "source": [
    "df.write.format(\"csv\").mode(\"overwrite\").save(\"bronze layer\")"
   ]
  },
  {
   "cell_type": "code",
   "execution_count": 6,
   "metadata": {
    "metadata": {}
   },
   "outputs": [
    {
     "name": "stdout",
     "output_type": "stream",
     "text": [
      "+----------------+--------------------+----------+-------------+--------------------+----------------+--------+---------+--------+--------------------+---------+--------------------+--------------------+\n",
      "|SalesOrderNumber|SalesOrderLineNumber| OrderDate| CustomerName|               Email|            Item|Quantity|UnitPrice|     Tax|            FileName|IsFlagged|           CreatedTS|          ModifiedTS|\n",
      "+----------------+--------------------+----------+-------------+--------------------+----------------+--------+---------+--------+--------------------+---------+--------------------+--------------------+\n",
      "|         SO45260|                   1|2019-12-31|Wyatt Griffin|wyatt49@adventure...|Road-150 Red, 62|       1|  3578.27|286.2616|file:///d:/IT%20-...|    false|2024-05-07 23:41:...|2024-05-07 23:41:...|\n",
      "+----------------+--------------------+----------+-------------+--------------------+----------------+--------+---------+--------+--------------------+---------+--------------------+--------------------+\n",
      "\n"
     ]
    }
   ],
   "source": [
    "df.where(df.CustomerName ==\"Wyatt Griffin\").show()"
   ]
  },
  {
   "cell_type": "code",
   "execution_count": 7,
   "metadata": {
    "metadata": {}
   },
   "outputs": [],
   "source": [
    " # Define the schema for the sales_silver table\n",
    "    \n",
    "from pyspark.sql.types import *\n",
    "\n",
    "df.write.format(\"csv\").mode(\"overwrite\").save(\"silver layer\")\n",
    "\n",
    "\n"
   ]
  },
  {
   "cell_type": "markdown",
   "metadata": {},
   "source": [
    " ## Create gold layer\n",
    " "
   ]
  },
  {
   "cell_type": "markdown",
   "metadata": {},
   "source": [
    "##Dimdate"
   ]
  },
  {
   "cell_type": "code",
   "execution_count": 8,
   "metadata": {
    "metadata": {}
   },
   "outputs": [
    {
     "data": {
      "text/plain": [
       "[Row(OrderDate=datetime.date(2019, 7, 1), Day=1, Month=7, Year=2019),\n",
       " Row(OrderDate=datetime.date(2019, 7, 2), Day=2, Month=7, Year=2019),\n",
       " Row(OrderDate=datetime.date(2019, 7, 3), Day=3, Month=7, Year=2019),\n",
       " Row(OrderDate=datetime.date(2019, 7, 4), Day=4, Month=7, Year=2019),\n",
       " Row(OrderDate=datetime.date(2019, 7, 5), Day=5, Month=7, Year=2019),\n",
       " Row(OrderDate=datetime.date(2019, 7, 6), Day=6, Month=7, Year=2019),\n",
       " Row(OrderDate=datetime.date(2019, 7, 7), Day=7, Month=7, Year=2019),\n",
       " Row(OrderDate=datetime.date(2019, 7, 8), Day=8, Month=7, Year=2019),\n",
       " Row(OrderDate=datetime.date(2019, 7, 9), Day=9, Month=7, Year=2019),\n",
       " Row(OrderDate=datetime.date(2019, 7, 10), Day=10, Month=7, Year=2019)]"
      ]
     },
     "metadata": {},
     "output_type": "display_data"
    }
   ],
   "source": [
    "from pyspark.sql.functions import *\n",
    "dimdateschema = StructType([ \\\n",
    "    StructField(\"Date\",DateType()), \n",
    "    StructField(\"Day\",IntegerType()), \n",
    "    StructField(\"Month\", IntegerType()), \n",
    "    StructField(\"Year\", IntegerType())\n",
    "    ])\n",
    "dfdimDate_gold = df.dropDuplicates([\"OrderDate\"]).select(col(\"OrderDate\"), \\\n",
    "         dayofmonth(\"OrderDate\").alias(\"Day\"), \\\n",
    "         month(\"OrderDate\").alias(\"Month\"), \\\n",
    "         year(\"OrderDate\").alias(\"Year\"), \\\n",
    "         \n",
    "     ).orderBy(\"OrderDate\")\n",
    "\n",
    " # Display the first 10 rows of the dataframe to preview your data\n",
    "\n",
    "display(dfdimDate_gold.head(10))"
   ]
  },
  {
   "cell_type": "code",
   "execution_count": 11,
   "metadata": {
    "metadata": {}
   },
   "outputs": [],
   "source": [
    "\n",
    "dfdimDate_gold.write.format(\"csv\").mode(\"overwrite\").save(\"gold layer\\dimdate\")"
   ]
  },
  {
   "cell_type": "markdown",
   "metadata": {},
   "source": [
    "##Create Dimcustomer"
   ]
  },
  {
   "cell_type": "code",
   "execution_count": 19,
   "metadata": {
    "metadata": {}
   },
   "outputs": [
    {
     "data": {
      "text/plain": [
       "[Row(CustomerName='Bridget Andersen', Email='bridget15@adventure-works.com', First='Bridget', Last='Andersen', CustomerID=1),\n",
       " Row(CustomerName='Mya Butler', Email='mya14@adventure-works.com', First='Mya', Last='Butler', CustomerID=2),\n",
       " Row(CustomerName='Deanna Hernandez', Email='deanna29@adventure-works.com', First='Deanna', Last='Hernandez', CustomerID=3),\n",
       " Row(CustomerName='Ricky Navarro', Email='ricky10@adventure-works.com', First='Ricky', Last='Navarro', CustomerID=4),\n",
       " Row(CustomerName='Omar Ye', Email='omar9@adventure-works.com', First='Omar', Last='Ye', CustomerID=5),\n",
       " Row(CustomerName='Kellie Gutierrez', Email='kellie9@adventure-works.com', First='Kellie', Last='Gutierrez', CustomerID=6),\n",
       " Row(CustomerName='Raymond Rana', Email='raymond13@adventure-works.com', First='Raymond', Last='Rana', CustomerID=7),\n",
       " Row(CustomerName='Derrick Moreno', Email='derrick6@adventure-works.com', First='Derrick', Last='Moreno', CustomerID=8),\n",
       " Row(CustomerName='Megan Walker', Email='megan25@adventure-works.com', First='Megan', Last='Walker', CustomerID=9),\n",
       " Row(CustomerName='Edward Jackson', Email='edward34@adventure-works.com', First='Edward', Last='Jackson', CustomerID=10)]"
      ]
     },
     "metadata": {},
     "output_type": "display_data"
    }
   ],
   "source": [
    "dfdimCustomer_silver = df.dropDuplicates([\"CustomerName\",\"Email\"]).select(col(\"CustomerName\"),col(\"Email\")) \\\n",
    "    .withColumn(\"First\",split(col(\"CustomerName\"), \" \").getItem(0)) \\\n",
    "    .withColumn(\"Last\",split(col(\"CustomerName\"), \" \").getItem(1)) \n",
    "\n",
    "  \n",
    "dfdimCustomer_gold = dfdimCustomer_silver.withColumn(\"CustomerID\",monotonically_increasing_id()+1)\n",
    "\n",
    " # Display the first 10 rows of the dataframe to preview your data\n",
    "\n",
    "display(dfdimCustomer_gold.head(10))"
   ]
  },
  {
   "cell_type": "code",
   "execution_count": 24,
   "metadata": {
    "metadata": {}
   },
   "outputs": [],
   "source": [
    "dfdimCustomer_gold.write.format(\"csv\").mode(\"overwrite\").save(\"gold layer\\dimCustomer\")"
   ]
  },
  {
   "cell_type": "markdown",
   "metadata": {},
   "source": [
    "##Create dimproduct\n"
   ]
  },
  {
   "cell_type": "code",
   "execution_count": 21,
   "metadata": {
    "metadata": {}
   },
   "outputs": [
    {
     "data": {
      "text/plain": [
       "[Row(Item='Mountain-200 Black, 42', ItemName='Mountain-200 Black', ItemInfo='42', ItemID=1),\n",
       " Row(Item='Touring-1000 Yellow, 46', ItemName='Touring-1000 Yellow', ItemInfo='46', ItemID=2),\n",
       " Row(Item='Touring-1000 Blue, 54', ItemName='Touring-1000 Blue', ItemInfo='54', ItemID=3),\n",
       " Row(Item='Short-Sleeve Classic Jersey, S', ItemName='Short-Sleeve Classic Jersey', ItemInfo='S', ItemID=4),\n",
       " Row(Item=\"Women's Mountain Shorts, S\", ItemName=\"Women's Mountain Shorts\", ItemInfo='S', ItemID=5),\n",
       " Row(Item='Long-Sleeve Logo Jersey, L', ItemName='Long-Sleeve Logo Jersey', ItemInfo='L', ItemID=6),\n",
       " Row(Item='Mountain-400-W Silver, 42', ItemName='Mountain-400-W Silver', ItemInfo='42', ItemID=7),\n",
       " Row(Item='Racing Socks, M', ItemName='Racing Socks', ItemInfo='M', ItemID=8),\n",
       " Row(Item='Mountain-100 Silver, 42', ItemName='Mountain-100 Silver', ItemInfo='42', ItemID=9),\n",
       " Row(Item='Mountain-200 Silver, 42', ItemName='Mountain-200 Silver', ItemInfo='42', ItemID=10)]"
      ]
     },
     "metadata": {},
     "output_type": "display_data"
    }
   ],
   "source": [
    "dfdimProduct_silver = df.dropDuplicates([\"Item\"]).select(col(\"Item\")) \\\n",
    "    .withColumn(\"ItemName\",split(col(\"Item\"), \", \").getItem(0)) \\\n",
    "    .withColumn(\"ItemInfo\",when((split(col(\"Item\"), \", \").getItem(1).isNull() | (split(col(\"Item\"), \", \").getItem(1)==\"\")),lit(\"\")).otherwise(split(col(\"Item\"), \", \").getItem(1))) \n",
    "dfdimProduct_gold = dfdimProduct_silver.withColumn(\"ItemID\",monotonically_increasing_id()+1)\n",
    "display(dfdimProduct_gold.head(10))"
   ]
  },
  {
   "cell_type": "code",
   "execution_count": 23,
   "metadata": {
    "metadata": {}
   },
   "outputs": [],
   "source": [
    "dfdimProduct_gold.write.format(\"csv\").mode(\"overwrite\").save(\"gold layer\\dimProduct\")"
   ]
  },
  {
   "cell_type": "markdown",
   "metadata": {},
   "source": [
    "## Create FactSale\n"
   ]
  },
  {
   "cell_type": "code",
   "execution_count": 25,
   "metadata": {
    "metadata": {}
   },
   "outputs": [
    {
     "data": {
      "text/plain": [
       "[Row(CustomerID=1737, ItemID=16, OrderDate=datetime.date(2019, 7, 1), Quantity=1, UnitPrice=3399.989990234375, Tax=271.99920654296875),\n",
       " Row(CustomerID=2683, ItemID=65, OrderDate=datetime.date(2019, 7, 1), Quantity=1, UnitPrice=3578.27001953125, Tax=286.2615966796875),\n",
       " Row(CustomerID=5063, ItemID=55, OrderDate=datetime.date(2019, 7, 1), Quantity=1, UnitPrice=3578.27001953125, Tax=286.2615966796875),\n",
       " Row(CustomerID=6095, ItemID=25, OrderDate=datetime.date(2019, 7, 1), Quantity=1, UnitPrice=3399.989990234375, Tax=271.99920654296875),\n",
       " Row(CustomerID=6545, ItemID=76, OrderDate=datetime.date(2019, 7, 1), Quantity=1, UnitPrice=699.0982055664062, Tax=55.92789840698242),\n",
       " Row(CustomerID=7319, ItemID=55, OrderDate=datetime.date(2019, 7, 1), Quantity=1, UnitPrice=3578.27001953125, Tax=286.2615966796875),\n",
       " Row(CustomerID=9243, ItemID=16, OrderDate=datetime.date(2019, 7, 1), Quantity=1, UnitPrice=3399.989990234375, Tax=271.99920654296875),\n",
       " Row(CustomerID=11741, ItemID=96, OrderDate=datetime.date(2019, 7, 1), Quantity=1, UnitPrice=3374.989990234375, Tax=269.99920654296875),\n",
       " Row(CustomerID=431, ItemID=100, OrderDate=datetime.date(2019, 7, 2), Quantity=1, UnitPrice=3578.27001953125, Tax=286.2615966796875),\n",
       " Row(CustomerID=767, ItemID=31, OrderDate=datetime.date(2019, 7, 2), Quantity=1, UnitPrice=699.0982055664062, Tax=55.92789840698242)]"
      ]
     },
     "metadata": {},
     "output_type": "display_data"
    }
   ],
   "source": [
    "df = df.withColumn(\"ItemName\",split(col(\"Item\"), \", \").getItem(0)) \\\n",
    "    .withColumn(\"ItemInfo\",when((split(col(\"Item\"), \", \").getItem(1).isNull() | (split(col(\"Item\"), \", \").getItem(1)==\"\")),lit(\"\")).otherwise(split(col(\"Item\"), \", \").getItem(1))) \\\n",
    "    \n",
    "    \n",
    "# Create Sales_gold dataframe\n",
    "    \n",
    "dffactSales_gold = df.alias(\"df1\").join(dfdimCustomer_gold.alias(\"df2\"),(df.CustomerName == dfdimCustomer_gold.CustomerName) & (df.Email == dfdimCustomer_gold.Email), \"left\") \\\n",
    "        .join(dfdimProduct_gold.alias(\"df3\"),(df.ItemName == dfdimProduct_gold.ItemName) & (df.ItemInfo == dfdimProduct_gold.ItemInfo), \"left\") \\\n",
    "    .select(col(\"df2.CustomerID\") \\\n",
    "        , col(\"df3.ItemID\") \\\n",
    "        , col(\"df1.OrderDate\") \\\n",
    "        , col(\"df1.Quantity\") \\\n",
    "        , col(\"df1.UnitPrice\") \\\n",
    "        , col(\"df1.Tax\") \\\n",
    "    ).orderBy(col(\"df1.OrderDate\"), col(\"df2.CustomerID\"), col(\"df3.ItemID\"))\n",
    "    \n",
    "# Display the first 10 rows of the dataframe to preview your data\n",
    "    \n",
    "display(dffactSales_gold.head(10))"
   ]
  },
  {
   "cell_type": "code",
   "execution_count": 27,
   "metadata": {
    "metadata": {}
   },
   "outputs": [],
   "source": [
    "dffactSales_gold.write.format(\"csv\").mode(\"overwrite\").save(\"gold layer/factSales\")"
   ]
  }
 ],
 "metadata": {
  "kernelspec": {
   "display_name": "base",
   "language": "python",
   "name": "python3"
  },
  "language_info": {
   "codemirror_mode": {
    "name": "ipython",
    "version": 3
   },
   "file_extension": ".py",
   "mimetype": "text/x-python",
   "name": "python",
   "nbconvert_exporter": "python",
   "pygments_lexer": "ipython3",
   "version": "3.11.7"
  }
 },
 "nbformat": 4,
 "nbformat_minor": 2
}
